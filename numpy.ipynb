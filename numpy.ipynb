{
 "cells": [
  {
   "cell_type": "markdown",
   "id": "d3df79dd",
   "metadata": {},
   "source": [
    "## Упражнения по библиотеке Numpy"
   ]
  },
  {
   "cell_type": "code",
   "execution_count": 1,
   "id": "76b9c43b",
   "metadata": {},
   "outputs": [],
   "source": [
    "import numpy as np"
   ]
  },
  {
   "cell_type": "markdown",
   "id": "03727b7c",
   "metadata": {},
   "source": [
    "**1.** Дан случайный массив, поменять знак у элементов, значения которых между 3 и 8"
   ]
  },
  {
   "cell_type": "code",
   "execution_count": 3,
   "id": "b89a7523",
   "metadata": {},
   "outputs": [
    {
     "name": "stdout",
     "output_type": "stream",
     "text": [
      "Измененный массив будет иметь следующий вид:\n",
      "[-5, 8, 3, 3, 3, -4, 3, -4, -4, -6]\n"
     ]
    }
   ],
   "source": [
    "import random \n",
    "\n",
    "array = [random.randint(3,8) for _ in range(10)]\n",
    "changed_array = [-x if 3 < x < 8 else x for x in array]\n",
    "print('Измененный массив будет иметь следующий вид:')\n",
    "print (changed_array)"
   ]
  },
  {
   "cell_type": "markdown",
   "id": "5fa4abda",
   "metadata": {},
   "source": [
    "**2.** Заменить максимальный элемент случайного массива на 0"
   ]
  },
  {
   "cell_type": "code",
   "execution_count": 8,
   "id": "f2788a6e",
   "metadata": {},
   "outputs": [
    {
     "name": "stdout",
     "output_type": "stream",
     "text": [
      "индекс максимального элемента в массиве 9\n",
      "[46, -15, 20, -78, -61, 3, -57, -37, -30, 0]\n"
     ]
    }
   ],
   "source": [
    "array = [random.randint(-100, 100) for _ in range(10)]\n",
    "max_element = array.index(max(array))\n",
    "array[max_element] = 0\n",
    "print(f'индекс максимального элемента в массиве {max_element}')\n",
    "print(array)"
   ]
  },
  {
   "cell_type": "markdown",
   "id": "3cac656b",
   "metadata": {},
   "source": [
    "**3.** Построить прямое произведение массивов (все комбинации с каждым элементом). На вход подается двумерный массив"
   ]
  },
  {
   "cell_type": "code",
   "execution_count": 4,
   "id": "3396b764",
   "metadata": {},
   "outputs": [
    {
     "name": "stdout",
     "output_type": "stream",
     "text": [
      "Прямое произведение массивов выглядит:\n",
      "(2, 9, 89)\n",
      "(2, 9, 20)\n",
      "(2, 9, 456)\n",
      "(2, 100, 89)\n",
      "(2, 100, 20)\n",
      "(2, 100, 456)\n",
      "(2, -80, 89)\n",
      "(2, -80, 20)\n",
      "(2, -80, 456)\n",
      "(30, 9, 89)\n",
      "(30, 9, 20)\n",
      "(30, 9, 456)\n",
      "(30, 100, 89)\n",
      "(30, 100, 20)\n",
      "(30, 100, 456)\n",
      "(30, -80, 89)\n",
      "(30, -80, 20)\n",
      "(30, -80, 456)\n",
      "(7, 9, 89)\n",
      "(7, 9, 20)\n",
      "(7, 9, 456)\n",
      "(7, 100, 89)\n",
      "(7, 100, 20)\n",
      "(7, 100, 456)\n",
      "(7, -80, 89)\n",
      "(7, -80, 20)\n",
      "(7, -80, 456)\n"
     ]
    }
   ],
   "source": [
    "from itertools import product\n",
    "\n",
    "array = [[2,30,7], [9, 100, -80], [89, 20, 456]]\n",
    "multiplication_array = list(product(*array))\n",
    "\n",
    "print('Прямое произведение массивов выглядит:')\n",
    "\n",
    "for i in multiplication_array:\n",
    "    print(i)"
   ]
  },
  {
   "cell_type": "markdown",
   "id": "674c9354",
   "metadata": {},
   "source": [
    "**4.** Даны 2 массива A (8x3) и B (2x2). Найти строки в A, которые содержат элементы из каждой строки в B, независимо от порядка элементов в B"
   ]
  },
  {
   "cell_type": "code",
   "execution_count": 6,
   "id": "cb664782",
   "metadata": {},
   "outputs": [
    {
     "name": "stdout",
     "output_type": "stream",
     "text": [
      "Все строки в A, которые содержат элементв из каждой строки в B:\n",
      "[[2, 3, 3], [4, 5, 0]]\n"
     ]
    }
   ],
   "source": [
    "A = [[1, 10, 7],\n",
    " [2, 3, 3],\n",
    " [8, 6, 7],\n",
    " [4, 5, 0],\n",
    " [6, 2, 8],\n",
    " [9, 3, 0],\n",
    " [6, 6, 5],\n",
    " [6, 1, 10],]\n",
    "\n",
    "B = np.array([[2, 3], [4, 5]])\n",
    "\n",
    "def find_matching_rows(A,B):\n",
    "    matching_rows = []\n",
    "    for row_A in A:\n",
    "        for row_B in B:\n",
    "            if all(elements in row_A for elements in row_B):\n",
    "                matching_rows.append(row_A)\n",
    "                break\n",
    "    return matching_rows\n",
    "\n",
    "matching_rows = find_matching_rows(A, B)\n",
    "print('Все строки в A, которые содержат элементв из каждой строки в B:')\n",
    "print(matching_rows)"
   ]
  },
  {
   "cell_type": "markdown",
   "id": "fa46533b",
   "metadata": {},
   "source": [
    "**5.** Дана 10x3 матрица, найти строки из неравных значений (например строка [2,2,3] остается, строка [3,3,3] удаляется)"
   ]
  },
  {
   "cell_type": "code",
   "execution_count": 8,
   "id": "fa545b23",
   "metadata": {},
   "outputs": [
    {
     "name": "stdout",
     "output_type": "stream",
     "text": [
      "Строки из неравных значений:\n",
      "[[ 1 10  7]\n",
      " [ 8  6  7]\n",
      " [ 4  0  0]\n",
      " [ 6  2  8]\n",
      " [ 9  3  0]\n",
      " [ 6  6  5]\n",
      " [ 6  1 10]]\n"
     ]
    }
   ],
   "source": [
    "matrix = [\n",
    " [1, 10, 7],\n",
    " [3, 3, 3],\n",
    " [8, 6, 7],\n",
    " [4, 0, 0],\n",
    " [6, 2, 8],\n",
    " [9, 3, 0],\n",
    " [0, 0, 0],\n",
    " [6, 6, 5],\n",
    " [6, 1, 10],\n",
    " [2, 2, 2]\n",
    "]\n",
    "\n",
    "filtered_matrix = np.array([row for row in matrix if len(np.unique(row)) > 1])\n",
    "print('Строки из неравных значений:')\n",
    "print(filtered_matrix)"
   ]
  },
  {
   "cell_type": "markdown",
   "id": "28f0d116",
   "metadata": {},
   "source": [
    "**6.** Дан двумерный массив. Удалить те строки, которые повторяются"
   ]
  },
  {
   "cell_type": "code",
   "execution_count": 17,
   "id": "83d2c0b7",
   "metadata": {},
   "outputs": [
    {
     "name": "stdout",
     "output_type": "stream",
     "text": [
      "После удаления строк:\n",
      "[[ 0  0  0]\n",
      " [ 2  2  2]\n",
      " [ 3  3  3]\n",
      " [ 4  0  0]\n",
      " [ 6  1 10]\n",
      " [ 6  2  8]\n",
      " [ 6  6  5]\n",
      " [ 8  6  7]\n",
      " [ 9  3  0]]\n"
     ]
    }
   ],
   "source": [
    "matrix = [\n",
    " [0, 0, 0],\n",
    " [3, 3, 3],\n",
    " [8, 6, 7],\n",
    " [4, 0, 0],\n",
    " [6, 2, 8],\n",
    " [9, 3, 0],\n",
    " [0, 0, 0],\n",
    " [6, 6, 5],\n",
    " [6, 1, 10],\n",
    " [2, 2, 2]\n",
    "]\n",
    "\n",
    "uniq = np.unique(matrix, axis=0)\n",
    "print('После удаления строк:')\n",
    "print(uniq)"
   ]
  },
  {
   "cell_type": "markdown",
   "id": "6daa9e37",
   "metadata": {},
   "source": [
    "______\n",
    "______"
   ]
  },
  {
   "cell_type": "markdown",
   "id": "cfbfcaff",
   "metadata": {},
   "source": [
    "Для каждой из следующих задач (1-5) нужно привести 2 реализации – одна без использования numpy (cчитайте, что там, где на входе или выходе должны быть numpy array, будут просто списки), а вторая полностью векторизованная с использованием numpy (без использования питоновских циклов/map/list comprehension).\n",
    "\n",
    "\n",
    "__Замечание 1.__ Можно считать, что все указанные объекты непустые (к примеру, в __задаче 1__ на диагонали матрицы есть ненулевые элементы).\n",
    "\n",
    "__Замечание 2.__ Для большинства задач решение занимает не больше 1-2 строк."
   ]
  },
  {
   "cell_type": "markdown",
   "id": "673cac7f",
   "metadata": {},
   "source": [
    "___"
   ]
  },
  {
   "cell_type": "markdown",
   "id": "ca6f585e",
   "metadata": {},
   "source": [
    "* __Задача 1__: Подсчитать произведение ненулевых элементов на диагонали прямоугольной матрицы.  \n",
    " Например, для X = np.array([[1, 0, 1], [2, 0, 2], [3, 0, 3], [4, 4, 4]]) ответ 3."
   ]
  },
  {
   "cell_type": "code",
   "execution_count": 14,
   "id": "f8603185",
   "metadata": {},
   "outputs": [
    {
     "name": "stdout",
     "output_type": "stream",
     "text": [
      "Произведение ненулевых элементов на диагонали прямоугольной матрицы равняется 3\n"
     ]
    }
   ],
   "source": [
    "# без использования numpy\n",
    "\n",
    "x = [[1, 0, 1], [2, 0, 2], [3, 0, 3], [4, 4, 4]]\n",
    "\n",
    "multiplication = 1\n",
    "\n",
    "for i in range(min(len(x), len(x[0]))):\n",
    "    diagonal_element = x[i][i]\n",
    "    if diagonal_element != 0:\n",
    "        multiplication*= diagonal_element\n",
    "        \n",
    "print(f'Произведение ненулевых элементов на диагонали прямоугольной матрицы равняется {multiplication}')"
   ]
  },
  {
   "cell_type": "code",
   "execution_count": 15,
   "id": "065862fc",
   "metadata": {},
   "outputs": [
    {
     "name": "stdout",
     "output_type": "stream",
     "text": [
      "Произведение ненулевых элементов на диагонали прямоугольной матрицы равняется 3\n"
     ]
    }
   ],
   "source": [
    "# с использованием numpy\n",
    "\n",
    "X = np.array([[1, 0, 1], [2, 0, 2], [3, 0, 3], [4, 4, 4]])\n",
    "             \n",
    "diagonal = np.diagonal(X)\n",
    "\n",
    "non_zero_diagonal = diagonal[diagonal != 0]\n",
    "\n",
    "product = np.prod(non_zero_diagonal)\n",
    "\n",
    "print(f'Произведение ненулевых элементов на диагонали прямоугольной матрицы равняется {product}')"
   ]
  },
  {
   "cell_type": "markdown",
   "id": "9fc51d41",
   "metadata": {},
   "source": [
    "* __Задача 2__: Даны два вектора x и y. Проверить, задают ли они одно и то же мультимножество.  \n",
    "  Например, для x = np.array([1, 2, 2, 4]), y = np.array([4, 2, 1, 2]) ответ True."
   ]
  },
  {
   "cell_type": "code",
   "execution_count": 14,
   "id": "a809e02f",
   "metadata": {},
   "outputs": [
    {
     "name": "stdout",
     "output_type": "stream",
     "text": [
      "Вектора задают мультимножества\n"
     ]
    }
   ],
   "source": [
    "# без использования numpy \n",
    "\n",
    "from collections import Counter\n",
    "\n",
    "x = [1, 2, 2, 4]\n",
    "y = [4, 2, 1, 2]\n",
    "\n",
    "x_counter = Counter(x)\n",
    "y_counter = Counter(y)\n",
    "\n",
    "if x_counter == y_counter:\n",
    "    print('Вектора задают мультимножества')\n",
    "else:\n",
    "    print('Ветора не задают мультимножество')"
   ]
  },
  {
   "cell_type": "code",
   "execution_count": 21,
   "id": "a4705f1d",
   "metadata": {},
   "outputs": [
    {
     "name": "stdout",
     "output_type": "stream",
     "text": [
      "Вектора задают мультимножества\n"
     ]
    }
   ],
   "source": [
    "# с использование numpy \n",
    "\n",
    "x = np.array([1, 2, 2, 4])\n",
    "y = np.array([4, 2, 1, 2])\n",
    "\n",
    "def multisets(x, y):\n",
    "    x_sorted = np.sort(x)\n",
    "    y_sorted = np.sort(y)\n",
    "    return np.array_equal(x_sorted, y_sorted)\n",
    "\n",
    "result = multisets(x,y)\n",
    "\n",
    "if result:\n",
    "    print('Вектора задают мультимножества')\n",
    "else:\n",
    "    print('Ветора не задают мультимножество')\n"
   ]
  },
  {
   "cell_type": "markdown",
   "id": "b9c185c7",
   "metadata": {},
   "source": [
    "* __Задача 3__: Найти максимальный элемент в векторе x среди элементов, перед которыми стоит ноль. \n",
    " Например, для x = np.array([6, 2, 0, 3, 0, 0, 5, 7, 0]) ответ 5."
   ]
  },
  {
   "cell_type": "code",
   "execution_count": 12,
   "id": "b57df008",
   "metadata": {},
   "outputs": [
    {
     "name": "stdout",
     "output_type": "stream",
     "text": [
      " Максимальный элемент в векторе среди элементов 5\n"
     ]
    }
   ],
   "source": [
    "# с использованием numpy \n",
    "\n",
    "x = [6, 2, 0, 3, 0, 0, 5, 7, 0]\n",
    "\n",
    "max_value = None\n",
    "\n",
    "for i in range(1, len(x)):\n",
    "    if x[i-1] == 0:\n",
    "        if max_value is None or x[i] > max_value:\n",
    "            max_value = x[i]\n",
    "\n",
    "print(f' Максимальный элемент в векторе среди элементов {max_value}')"
   ]
  },
  {
   "cell_type": "code",
   "execution_count": 36,
   "id": "65755aa0",
   "metadata": {},
   "outputs": [
    {
     "name": "stdout",
     "output_type": "stream",
     "text": [
      " Максимальный элемент в векторе среди элементов 6\n"
     ]
    }
   ],
   "source": [
    "# c использованием numpy\n",
    "\n",
    "x = np.array([6, 2, 0, 3, 0, 0, 5, 7, 0])\n",
    "indices = np.where(np.roll(x, 1) == 0)[0]\n",
    "values = x[indices]\n",
    "max_value = np.max(values)\n",
    "\n",
    "print(f' Максимальный элемент в векторе среди элементов {max_value}')\n"
   ]
  },
  {
   "cell_type": "markdown",
   "id": "480be4ce",
   "metadata": {},
   "source": [
    "* __Задача 4__: Реализовать кодирование длин серий (Run-length encoding). Для некоторого вектора x необходимо вернуть кортеж из двух векторов одинаковой длины. Первый содержит числа, а второй - сколько раз их нужно повторить.  \n",
    " Например, для x = np.array([2, 2, 2, 3, 3, 3, 5]) ответ (np.array([2, 3, 5]), np.array([3, 3, 1]))."
   ]
  },
  {
   "cell_type": "code",
   "execution_count": 38,
   "id": "3c592124",
   "metadata": {},
   "outputs": [
    {
     "name": "stdout",
     "output_type": "stream",
     "text": [
      "[2 3 5]\n",
      "[3 3 1]\n"
     ]
    }
   ],
   "source": [
    "# без использованием numpy\n",
    "\n",
    "def run_length_encoding(x):\n",
    "\n",
    "    values = []\n",
    "    counts = []\n",
    "\n",
    "    current_value = x[0]\n",
    "    current_count = 1\n",
    "\n",
    "    for i in range(1, len(x)):\n",
    "        if x[i] == current_value:  \n",
    "            current_count += 1\n",
    "        else: \n",
    "            values.append(current_value)\n",
    "            counts.append(current_count)\n",
    "            current_value = x[i]\n",
    "            current_count = 1\n",
    "\n",
    "    values.append(current_value)\n",
    "    counts.append(current_count)\n",
    "\n",
    "    return np.array(values), np.array(counts)\n",
    "\n",
    "x = np.array([2, 2, 2, 3, 3, 3, 5])\n",
    "values, counts = run_length_encoding(x)\n",
    "\n",
    "print(np.array(values))  \n",
    "print(np.array(counts)) \n"
   ]
  },
  {
   "cell_type": "code",
   "execution_count": 41,
   "id": "468403db",
   "metadata": {},
   "outputs": [
    {
     "name": "stdout",
     "output_type": "stream",
     "text": [
      "[False False  True False False  True]\n"
     ]
    },
    {
     "data": {
      "text/plain": [
       "(array([2, 3, 5]), array([0, 3, 3, 1]))"
      ]
     },
     "execution_count": 41,
     "metadata": {},
     "output_type": "execute_result"
    }
   ],
   "source": [
    "# с использованием numpy\n",
    "\n",
    "def run_length_encoding(x):\n",
    "    diffs = np.diff(x) != 0 \n",
    "    indices = np.insert(diffs, 0, True) \n",
    "\n",
    "    values = x[indices] \n",
    "    counts = np.diff(np.concatenate(([0], np.where(indices)[0], [len(x)]))) \n",
    "\n",
    "    return values, counts\n",
    "\n",
    "x = np.array([2, 2, 2, 3, 3, 3, 5])\n",
    "run_length_encoding(x)"
   ]
  },
  {
   "cell_type": "markdown",
   "id": "077532ec",
   "metadata": {},
   "source": [
    "* __Задача 5__: Даны две выборки объектов - X и Y. Вычислить матрицу евклидовых расстояний между объектами. Сравните с функцией scipy.spatial.distance.cdist по скорости работы."
   ]
  },
  {
   "cell_type": "code",
   "execution_count": null,
   "id": "1e807797",
   "metadata": {},
   "outputs": [
    {
     "name": "stdout",
     "output_type": "stream",
     "text": [
      "\"Матрица евклидовых расстояний с использованием scipy.spatial.distance.cdist :\"\n",
      "[[ 8.48528137 11.3137085   5.83095189]\n",
      " [ 5.65685425  8.48528137  3.16227766]\n",
      " [ 2.82842712  5.65685425  1.41421356]]\n",
      "Матрица евклидовых расстояний без использования специальной функции:\n",
      "[[ 8.48528137 11.3137085   5.83095189]\n",
      " [ 5.65685425  8.48528137  3.16227766]\n",
      " [ 2.82842712  5.65685425  1.41421356]]\n",
      "функцией scipy.spatial.distance.cdist по скорости работы быстрее\n"
     ]
    }
   ],
   "source": [
    "from scipy.spatial import distance\n",
    "import time\n",
    "\n",
    "X = np.array([[1, 2], [3, 4], [5, 6]])  # 3 объекта из X\n",
    "Y = np.array([[7, 8], [9, 10], [4,7]])\n",
    "\n",
    "# использование функции scipy.spatial.distance.cdist\n",
    "\n",
    "dist_matrix_scipy = distance.cdist(X, Y, 'euclidean')\n",
    "print('\"Матрица евклидовых расстояний с использованием scipy.spatial.distance.cdist :\"')\n",
    "print(dist_matrix_scipy)\n",
    "\n",
    "\n",
    "# без использование функции \n",
    "\n",
    "def euclidean_distance_matrix(X, Y):\n",
    "    diff = X[:, np.newaxis, :] - Y[np.newaxis, :, :]\n",
    "    dist_matrix = np.sqrt(np.sum(diff ** 2, axis=-1))\n",
    "    return dist_matrix\n",
    "\n",
    "dist_matrix = euclidean_distance_matrix(X, Y)\n",
    "print(\"Матрица евклидовых расстояний без использования специальной функции:\")\n",
    "print(dist_matrix)\n",
    "\n",
    "# измеряем время c помощью встроенной функции \n",
    "start_time = time.time()\n",
    "dist_matrix_1 = distance.cdist(X, Y, 'euclidean')\n",
    "end_time = time.time()\n",
    "method_1_time = end_time - start_time\n",
    "\n",
    "# измеряем время функции euclidean_distance_matrix\n",
    "start_time = time.time()\n",
    "dist_matrix_2 = euclidean_distance_matrix(X, Y)\n",
    "end_time = time.time()\n",
    "method_2_time = end_time - start_time\n",
    "\n",
    "diffrence_time = method_1_time - method_2_time\n",
    "\n",
    "if diffrence_time > 0 :\n",
    "    print('функцией scipy.spatial.distance.cdist по скорости работы быстрее')\n",
    "else:\n",
    "    print('функцией scipy.spatial.distance.cdist по скорости работы медленние')\n"
   ]
  },
  {
   "cell_type": "markdown",
   "id": "973e8064",
   "metadata": {},
   "source": [
    "_______\n",
    "________"
   ]
  },
  {
   "cell_type": "markdown",
   "id": "1104acb7",
   "metadata": {},
   "source": [
    "* #### __Задача 6__: CrunchieMunchies __*__\n",
    "\n",
    "Вы работаете в отделе маркетинга пищевой компании MyCrunch, которая разрабатывает новый вид вкусных, полезных злаков под названием **CrunchieMunchies**.\n",
    "\n",
    "Вы хотите продемонстрировать потребителям, насколько полезны ваши хлопья по сравнению с другими ведущими брендами, поэтому вы собрали данные о питании нескольких разных конкурентов.\n",
    "\n",
    "Ваша задача - использовать вычисления Numpy для анализа этих данных и доказать, что ваши **СrunchieMunchies** - самый здоровый выбор для потребителей.\n"
   ]
  },
  {
   "cell_type": "markdown",
   "id": "ab87cb03",
   "metadata": {},
   "source": [
    "1. Просмотрите файл cereal.csv. Этот файл содержит количества калорий для различных марок хлопьев. Загрузите данные из файла и сохраните их как calorie_stats."
   ]
  },
  {
   "cell_type": "code",
   "execution_count": 9,
   "id": "9681ebf2",
   "metadata": {},
   "outputs": [
    {
     "data": {
      "text/plain": [
       "array([ 70., 120.,  70.,  50., 110., 110., 110., 130.,  90.,  90., 120.,\n",
       "       110., 120., 110., 110., 110., 100., 110., 110., 110., 100., 110.,\n",
       "       100., 100., 110., 110., 100., 120., 120., 110., 100., 110., 100.,\n",
       "       110., 120., 120., 110., 110., 110., 140., 110., 100., 110., 100.,\n",
       "       150., 150., 160., 100., 120., 140.,  90., 130., 120., 100.,  50.,\n",
       "        50., 100., 100., 120., 100.,  90., 110., 110.,  80.,  90.,  90.,\n",
       "       110., 110.,  90., 110., 140., 100., 110., 110., 100., 100., 110.])"
      ]
     },
     "execution_count": 9,
     "metadata": {},
     "output_type": "execute_result"
    }
   ],
   "source": [
    "calorie_stats = np.loadtxt(\"./data/cereal.csv\", delimiter=\",\")\n",
    "calorie_stats"
   ]
  },
  {
   "cell_type": "markdown",
   "id": "139cfbd8",
   "metadata": {},
   "source": [
    "В одной порции CrunchieMunchies содержится 60 калорий. Насколько выше среднее количество калорий у ваших конкурентов?2. \n",
    "\n",
    "Сохраните ответ в переменной average_calories и распечатайте переменную в терминале"
   ]
  },
  {
   "cell_type": "code",
   "execution_count": 10,
   "id": "7036d240",
   "metadata": {},
   "outputs": [
    {
     "name": "stdout",
     "output_type": "stream",
     "text": [
      "Среднее количество калорий у конкурентов выше на 46.883116883116884\n"
     ]
    }
   ],
   "source": [
    "crunchie_munchies_calories = 60\n",
    "average_calories = np.mean(calorie_stats)-crunchie_munchies_calories\n",
    "print(f'Среднее количество калорий у конкурентов выше на {average_calories}')"
   ]
  },
  {
   "cell_type": "markdown",
   "id": "b2ddb4cd",
   "metadata": {},
   "source": [
    "3. Корректно ли среднее количество калорий отражает распределение набора данных? Давайте отсортируем данные и посмотрим.\n",
    "\n",
    "Отсортируйте данные и сохраните результат в переменной calorie_stats_sorted. Распечатайте отсортированную информацию"
   ]
  },
  {
   "cell_type": "code",
   "execution_count": 12,
   "id": "46eeb4ed",
   "metadata": {},
   "outputs": [
    {
     "name": "stdout",
     "output_type": "stream",
     "text": [
      "Отсортированные данные:\n",
      "[ 50.  50.  50.  70.  70.  80.  90.  90.  90.  90.  90.  90.  90. 100.\n",
      " 100. 100. 100. 100. 100. 100. 100. 100. 100. 100. 100. 100. 100. 100.\n",
      " 100. 100. 110. 110. 110. 110. 110. 110. 110. 110. 110. 110. 110. 110.\n",
      " 110. 110. 110. 110. 110. 110. 110. 110. 110. 110. 110. 110. 110. 110.\n",
      " 110. 110. 110. 120. 120. 120. 120. 120. 120. 120. 120. 120. 120. 130.\n",
      " 130. 140. 140. 140. 150. 150. 160.]\n"
     ]
    }
   ],
   "source": [
    "calorie_stats_sorted = np.sort(calorie_stats)\n",
    "print('Отсортированные данные:')\n",
    "print(calorie_stats_sorted)"
   ]
  },
  {
   "cell_type": "markdown",
   "id": "4dc74116",
   "metadata": {},
   "source": [
    "4. Похоже, что большинство значений выше среднего. Давайте посмотрим, является ли медиана наиболее корректным показателем набора данных.\n",
    "\n",
    "Вычислите медиану набора данных и сохраните свой ответ в median_calories. Выведите медиану, чтобы вы могли видеть, как она сравнивается со средним значением."
   ]
  },
  {
   "cell_type": "code",
   "execution_count": 14,
   "id": "b56627c3",
   "metadata": {},
   "outputs": [
    {
     "name": "stdout",
     "output_type": "stream",
     "text": [
      " Медиана в наборе данных 110.0\n"
     ]
    }
   ],
   "source": [
    "median_calories = np.median(calorie_stats)\n",
    "print(f'Медиана в наборе данных {median_calories}')"
   ]
  },
  {
   "cell_type": "markdown",
   "id": "a63ab72f",
   "metadata": {},
   "source": [
    "5. В то время как медиана показывает, что по крайней мере половина наших значений составляет более 100 калорий, было бы более впечатляюще показать, что значительная часть конкурентов имеет более высокое количество калорий, чем CrunchieMunchies.\n",
    "\n",
    "Рассчитайте различные процентили и распечатайте их, пока не найдете наименьший процентиль, превышающий 60 калорий. Сохраните это значение в переменной nth_percentile."
   ]
  },
  {
   "cell_type": "code",
   "execution_count": 17,
   "id": "fe80ce03",
   "metadata": {},
   "outputs": [
    {
     "name": "stdout",
     "output_type": "stream",
     "text": [
      " Наименьший процентиль, превышающий 60 калорий 70.0\n"
     ]
    }
   ],
   "source": [
    "for p in range(0,101):\n",
    "    percentile = np.percentile(calorie_stats, p)\n",
    "    if percentile > 60:\n",
    "        least_percentile = percentile\n",
    "        break\n",
    "\n",
    "print(f'Наименьший процентиль, превышающий 60 калорий {least_percentile}')\n",
    "\n"
   ]
  },
  {
   "cell_type": "markdown",
   "id": "a2a3c5aa",
   "metadata": {},
   "source": [
    "6. Хотя процентиль показывает нам, что у большинства конкурентов количество калорий намного выше, это неудобная концепция для использования в маркетинговых материалах.\n",
    "\n",
    "Вместо этого давайте подсчитаем процент хлопьев, в которых содержится более 60 калорий на порцию. Сохраните свой ответ в переменной more_calories и распечатайте его"
   ]
  },
  {
   "cell_type": "code",
   "execution_count": 19,
   "id": "ade0f6ea",
   "metadata": {},
   "outputs": [
    {
     "name": "stdout",
     "output_type": "stream",
     "text": [
      " Процент хлопьев, превышающих 60 калорий на порцию 96.1038961038961\n"
     ]
    }
   ],
   "source": [
    "condition = calorie_stats > 60\n",
    "percent = sum(condition)/len(calorie_stats) * 100\n",
    "print(f'Процент хлопьев, превышающих 60 калорий на порцию {percent}')"
   ]
  },
  {
   "cell_type": "markdown",
   "id": "1735d65b",
   "metadata": {},
   "source": [
    "7. Это действительно высокий процент. Это будет очень полезно, когда мы будем продвигать CrunchieMunchies. Но один вопрос заключается в том, насколько велики различия в наборе данных? Можем ли мы сделать обобщение, что в большинстве злаков содержится около 100 калорий или разброс еще больше?\n",
    "\n",
    "Рассчитайте величину отклонения, найдя стандартное отклонение, Сохраните свой ответ в calorie_std и распечатайте на терминале. Как мы можем включить эту ценность в наш анализ?"
   ]
  },
  {
   "cell_type": "code",
   "execution_count": 21,
   "id": "85c8df1f",
   "metadata": {},
   "outputs": [
    {
     "name": "stdout",
     "output_type": "stream",
     "text": [
      "тандартное отклонение равно 19.484119056820845\n"
     ]
    }
   ],
   "source": [
    "calorie_std = np.std(calorie_stats, ddof=1)\n",
    "print(f'Стандартное отклонение равно {calorie_std}')"
   ]
  },
  {
   "cell_type": "markdown",
   "id": "037455c5",
   "metadata": {},
   "source": [
    "8. Напишите короткий абзац, в котором кратко изложите свои выводы и то, как, по вашему мнению, эти данные могут быть использованы в интересах Mycrunch при маркетинге CrunchieMunchies."
   ]
  },
  {
   "cell_type": "code",
   "execution_count": 167,
   "id": "c260fee9",
   "metadata": {},
   "outputs": [],
   "source": [
    "Анализ результатов показывает, что подавляющее большинство марок хлопьев (96,1%) содержит более 60 граммов в одной порции. С одной стороны, увеличение количества хлопьев в порции способствует повышению содержания углеводов, клетчатки и других полезных веществ. Однако, с другой стороны, это также может приводить к повышению уровня глюкозы в крови за счёт содержания сахара и увеличению калорийности.\n",
    "\n",
    "В связи с этим компания CrunchieMunchies может направить свои маркетинговые усилия на следующие сегменты потребителей, такие как:\n",
    "a) те, кто уделяет внимание контролю уровня глюкозы в крови;\n",
    "б) те, кто следит за калорийностью своего рациона."
   ]
  }
 ],
 "metadata": {
  "kernelspec": {
   "display_name": "Python 3",
   "language": "python",
   "name": "python3"
  },
  "language_info": {
   "codemirror_mode": {
    "name": "ipython",
    "version": 3
   },
   "file_extension": ".py",
   "mimetype": "text/x-python",
   "name": "python",
   "nbconvert_exporter": "python",
   "pygments_lexer": "ipython3",
   "version": "3.13.1"
  }
 },
 "nbformat": 4,
 "nbformat_minor": 5
}
