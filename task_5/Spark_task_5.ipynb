{
 "cells": [
  {
   "cell_type": "code",
   "execution_count": 2,
   "id": "e6b243cc-cd72-40b5-a8ee-75c7c2e4ce69",
   "metadata": {},
   "outputs": [],
   "source": [
    "import findspark\n",
    "findspark.init()"
   ]
  },
  {
   "cell_type": "code",
   "execution_count": 3,
   "id": "94ebbc73-ccf0-4fa8-81a6-c674cf71ccd1",
   "metadata": {},
   "outputs": [],
   "source": [
    "# Necessary libraries\n",
    "\n",
    "import os\n",
    "import pyspark\n",
    "from pyspark.sql import SparkSession\n",
    "from pyspark.sql.functions import col\n",
    "from pyspark.sql import functions as f\n",
    "from pyspark.sql.window import Window"
   ]
  },
  {
   "cell_type": "code",
   "execution_count": 4,
   "id": "0fa9b427-60bd-46d1-880c-9034ba0f6c35",
   "metadata": {},
   "outputs": [],
   "source": [
    "# create Spark Session \n",
    "\n",
    "spark = SparkSession.builder \\\n",
    "    .appName(\"Postgres_to_PySpark\") \\\n",
    "    .config(\"spark.jars\", r\"C:\\Program Files\\spark\\jars\\postgresql-42.6.0.jar\") \\\n",
    "    .getOrCreate()"
   ]
  },
  {
   "cell_type": "code",
   "execution_count": 5,
   "id": "b4b9f011-d789-4c2d-88df-8d54b8d13722",
   "metadata": {},
   "outputs": [],
   "source": [
    "# Connect to postresql database \n",
    "\n",
    "jdbc_url = \"jdbc:postgresql://localhost:5432/pagila\"\n",
    "properties = {\n",
    "    \"user\": \"postgres\",\n",
    "    \"password\": \"victor\",\n",
    "    \"driver\": \"org.postgresql.Driver\"  \n",
    "}"
   ]
  },
  {
   "cell_type": "code",
   "execution_count": 6,
   "id": "ab5bcf06-cbe6-46b2-b506-f1cb3c27dc20",
   "metadata": {},
   "outputs": [
    {
     "data": {
      "text/html": [
       "\n",
       "            <div>\n",
       "                <p><b>SparkSession - in-memory</b></p>\n",
       "                \n",
       "        <div>\n",
       "            <p><b>SparkContext</b></p>\n",
       "\n",
       "            <p><a href=\"http://Home-PC:4041\">Spark UI</a></p>\n",
       "\n",
       "            <dl>\n",
       "              <dt>Version</dt>\n",
       "                <dd><code>v3.5.4</code></dd>\n",
       "              <dt>Master</dt>\n",
       "                <dd><code>local[*]</code></dd>\n",
       "              <dt>AppName</dt>\n",
       "                <dd><code>Postgres_to_PySpark</code></dd>\n",
       "            </dl>\n",
       "        </div>\n",
       "        \n",
       "            </div>\n",
       "        "
      ],
      "text/plain": [
       "<pyspark.sql.session.SparkSession at 0x1b1f2d4b0e0>"
      ]
     },
     "execution_count": 6,
     "metadata": {},
     "output_type": "execute_result"
    }
   ],
   "source": [
    "spark"
   ]
  },
  {
   "cell_type": "code",
   "execution_count": 7,
   "id": "7d46b36f-5a64-42d8-991a-845f315bc823",
   "metadata": {},
   "outputs": [],
   "source": [
    "# Necessary table for queries\n",
    "\n",
    "film = spark.read.jdbc(url=jdbc_url, table=\"film\", properties=properties)\n",
    "film_category = spark.read.jdbc(url=jdbc_url, table=\"film_category\", properties=properties)\n",
    "category = spark.read.jdbc(url=jdbc_url, table=\"category\", properties=properties)\n",
    "film_actor = spark.read.jdbc(url=jdbc_url, table=\"film_actor\", properties=properties)\n",
    "actor = spark.read.jdbc(url=jdbc_url, table=\"actor\", properties=properties)\n",
    "inventory = spark.read.jdbc(url=jdbc_url, table=\"inventory\", properties=properties)\n",
    "rental = spark.read.jdbc(url=jdbc_url, table=\"rental\", properties=properties)\n",
    "city = spark.read.jdbc(url=jdbc_url, table=\"city\", properties=properties)\n",
    "address = spark.read.jdbc(url=jdbc_url, table=\"address\", properties=properties)\n",
    "customer = spark.read.jdbc(url=jdbc_url, table=\"customer\", properties=properties)"
   ]
  },
  {
   "cell_type": "code",
   "execution_count": 9,
   "id": "e3c09bee-d24b-49e2-b0fb-efef95eb5e9c",
   "metadata": {},
   "outputs": [
    {
     "name": "stdout",
     "output_type": "stream",
     "text": [
      "+-----------+-----------+--------+\n",
      "|category_id|       name|quantity|\n",
      "+-----------+-----------+--------+\n",
      "|         15|     Sports|      74|\n",
      "|          9|    Foreign|      73|\n",
      "|          8|     Family|      69|\n",
      "|          6|Documentary|      68|\n",
      "|          2|  Animation|      66|\n",
      "|          1|     Action|      64|\n",
      "|         13|        New|      63|\n",
      "|          7|      Drama|      62|\n",
      "|         10|      Games|      61|\n",
      "|         14|     Sci-Fi|      61|\n",
      "|          3|   Children|      60|\n",
      "|          5|     Comedy|      58|\n",
      "|          4|   Classics|      57|\n",
      "|         16|     Travel|      57|\n",
      "|         11|     Horror|      56|\n",
      "|         12|      Music|      51|\n",
      "+-----------+-----------+--------+\n",
      "\n"
     ]
    }
   ],
   "source": [
    "# Q1: Number of films in each category\n",
    "\n",
    "result_1 = (\n",
    "    film.alias(\"f1\")\n",
    "    .join(film_category.alias(\"f2\"), col(\"f1.film_id\") == col(\"f2.film_id\"), \"inner\")\n",
    "    .join(category.alias(\"f3\"), col(\"f2.category_id\") == col(\"f3.category_id\"), \"inner\")\n",
    "    .groupBy(col(\"f3.category_id\"), col(\"f3.name\"))\n",
    "    .agg(f.count(\"f1.film_id\").alias(\"quantity\"))\n",
    "    .orderBy(col(\"quantity\").desc())\n",
    ")\n",
    "\n",
    "result_1.show()"
   ]
  },
  {
   "cell_type": "code",
   "execution_count": 10,
   "id": "2b5da470-c1a6-47d8-a558-70cf0fd54be1",
   "metadata": {},
   "outputs": [
    {
     "name": "stdout",
     "output_type": "stream",
     "text": [
      "+--------+------------------+------------+\n",
      "|actor_id|         full_name|rental_count|\n",
      "+--------+------------------+------------+\n",
      "|     102|       WALTER TORN|         144|\n",
      "|      23|     SANDRA KILMER|         137|\n",
      "|     198|       MARY KEITEL|         134|\n",
      "|     181|    MATTHEW CARREY|         131|\n",
      "|     107|    GINA DEGENERES|         129|\n",
      "|     144|ANGELA WITHERSPOON|         128|\n",
      "|      60|       HENRY BERRY|         125|\n",
      "|     106|     GROUCHO DUNST|         125|\n",
      "|      81|    SCARLETT DAMON|         125|\n",
      "|     150|       JAYNE NOLTE|         123|\n",
      "+--------+------------------+------------+\n",
      "\n"
     ]
    }
   ],
   "source": [
    "#Q2: The 10 actors whose films were rented the most\n",
    "\n",
    "result_2 = (\n",
    "    actor.alias(\"a1\")\n",
    "    .join(film_actor.alias(\"f1\"), col(\"a1.actor_id\") == col(\"f1.actor_id\"), \"inner\")\n",
    "    .join(film.alias(\"f2\"), col(\"f1.film_id\") == col(\"f2.film_id\"), \"inner\")\n",
    "    .join(inventory.alias(\"i1\"), col(\"f2.film_id\") ==  col(\"i1.inventory_id\"), \"inner\")\n",
    "    .join(rental.alias(\"r1\"), col(\"i1.inventory_id\") == col(\"r1.inventory_id\"), \"inner\")\n",
    "    .groupBy(col(\"a1.actor_id\"), f.concat_ws(\" \", col(\"a1.first_name\"), col(\"a1.last_name\")).alias(\"full_name\"))\n",
    "    .agg(f.count(col(\"r1.rental_id\")).alias(\"rental_count\"))\n",
    "    .orderBy(col(\"rental_count\").desc())\n",
    "    .limit(10)\n",
    "         )\n",
    "\n",
    "result_2.show()"
   ]
  },
  {
   "cell_type": "code",
   "execution_count": 11,
   "id": "5d35a901-65a1-43e4-a7e6-7d97f04e6e9a",
   "metadata": {},
   "outputs": [
    {
     "name": "stdout",
     "output_type": "stream",
     "text": [
      "+------+----------+\n",
      "|  name|total_cost|\n",
      "+------+----------+\n",
      "|Sports|   1509.26|\n",
      "+------+----------+\n",
      "\n"
     ]
    }
   ],
   "source": [
    "#Q3: The category of films on which the most money was spent\n",
    "\n",
    "result_3 = (\n",
    "    film.alias(\"f1\")\n",
    "    .join(film_category.alias(\"f2\"), col(\"f2.film_id\") == col(\"f1.film_id\"), \"inner\")\n",
    "    .join(category.alias(\"c1\"), col(\"c1.category_id\") == col(\"f2.category_id\"), \"inner\")\n",
    "    .groupBy(col(\"c1.name\"))\n",
    "    .agg(f.sum(col(\"f1.replacement_cost\")).alias(\"total_cost\"))\n",
    "    .orderBy(col(\"total_cost\").desc()) \n",
    "    .limit(1)\n",
    ")\n",
    "         \n",
    "result_3.show()"
   ]
  },
  {
   "cell_type": "code",
   "execution_count": 12,
   "id": "b61328a7-e592-4c39-ab1f-36149af6c18c",
   "metadata": {},
   "outputs": [
    {
     "name": "stdout",
     "output_type": "stream",
     "text": [
      "+-------+--------------------+\n",
      "|film_id|               title|\n",
      "+-------+--------------------+\n",
      "|    148|      CHOCOLATE DUCK|\n",
      "|    108|       BUTCH PANTHER|\n",
      "|    950|        VOLUME HOUSE|\n",
      "|    642|      ORDER BETRAYED|\n",
      "|    874|        TADPOLE PARK|\n",
      "|    497|    KILL BROTHERHOOD|\n",
      "|    332|FRANKENSTEIN STRA...|\n",
      "|    192|    CROSSING DIVORCE|\n",
      "|    860|    SUICIDES SILENCE|\n",
      "|    128|       CATCH AMISTAD|\n",
      "|    671|     PERDITION FARGO|\n",
      "|    325|       FLOATS GARDEN|\n",
      "|    386|           GUMP DATE|\n",
      "|    955|        WALLS ARTIST|\n",
      "|    359|  GLADIATOR WESTWARD|\n",
      "|    419|         HOCUS FRIDA|\n",
      "|     41|ARSENIC INDEPENDENCE|\n",
      "|    607|         MUPPET MILE|\n",
      "|    318|   FIREHOUSE VIETNAM|\n",
      "|    742|       ROOF CHAMPION|\n",
      "+-------+--------------------+\n",
      "only showing top 20 rows\n",
      "\n"
     ]
    }
   ],
   "source": [
    "#Q4: Movies that does not have inventory\n",
    "\n",
    "result_4 = (\n",
    "    film.alias(\"f1\")\n",
    "    .join(inventory.alias(\"i1\"), col(\"f1.film_id\") == col(\"i1.film_id\"), \"left\")\n",
    "    .filter(col(\"i1.inventory_id\").isNull())\n",
    "    .select(col(\"f1.film_id\"), col(\"f1.title\"))\n",
    "    )\n",
    "\n",
    "result_4.show()"
   ]
  },
  {
   "cell_type": "code",
   "execution_count": 13,
   "id": "fbb8f1f4-7254-4990-85e4-7621bcb7b2d3",
   "metadata": {},
   "outputs": [
    {
     "name": "stdout",
     "output_type": "stream",
     "text": [
      "+--------+----------------+--------+----------------+---+\n",
      "|actor_id|       full_name|    name|appearance_count|top|\n",
      "+--------+----------------+--------+----------------+---+\n",
      "|      17|    HELEN VOIGHT|Children|               7|  1|\n",
      "|      66|      MARY TANDY|Children|               5|  2|\n",
      "|     127|   KEVIN GARLAND|Children|               5|  2|\n",
      "|     140|     WHOOPI HURT|Children|               5|  2|\n",
      "|      80|      RALPH CRUZ|Children|               5|  2|\n",
      "|     131|    JANE JACKMAN|Children|               4|  3|\n",
      "|     109|  SYLVESTER DERN|Children|               4|  3|\n",
      "|     187|      RENEE BALL|Children|               4|  3|\n",
      "|      37|      VAL BOLGER|Children|               4|  3|\n",
      "|      23|   SANDRA KILMER|Children|               4|  3|\n",
      "|      81|  SCARLETT DAMON|Children|               4|  3|\n",
      "|     150|     JAYNE NOLTE|Children|               4|  3|\n",
      "|     173|   ALAN DREYFUSS|Children|               4|  3|\n",
      "|      58|CHRISTIAN AKROYD|Children|               4|  3|\n",
      "|     101|     SUSAN DAVIS|Children|               4|  3|\n",
      "|      13|        UMA WOOD|Children|               4|  3|\n",
      "|      92|  KIRSTEN AKROYD|Children|               4|  3|\n",
      "|      93|   ELLEN PRESLEY|Children|               4|  3|\n",
      "|     142|      JADA RYDER|Children|               4|  3|\n",
      "+--------+----------------+--------+----------------+---+\n",
      "\n"
     ]
    }
   ],
   "source": [
    "#Q5: Top 3 actors who appears in category 'Children'\n",
    "\n",
    "children = (\n",
    "    actor.alias(\"a1\")\n",
    "    .join(film_actor.alias(\"fa\"), col(\"a1.actor_id\") == col(\"fa.actor_id\"), \"inner\")\n",
    "    .join(film.alias(\"f1\"), col(\"fa.film_id\") == col(\"f1.film_id\"), \"inner\")\n",
    "    .join(film_category.alias(\"fc\"), col(\"f1.film_id\") == col(\"fc.film_id\"), \"inner\")\n",
    "    .join(category.alias(\"c\"), col(\"c.category_id\") == col(\"fc.category_id\"), \"inner\")\n",
    "    .filter(col(\"c.name\") == \"Children\")\n",
    "    .groupBy(col(\"a1.actor_id\"), f.concat_ws(\" \", col(\"a1.first_name\"), col(\"a1.last_name\")).alias(\"full_name\"), col(\"c.name\"))\n",
    "    .agg(f.count(col(\"a1.actor_id\")).alias(\"appearance_count\")) \n",
    ")\n",
    "\n",
    "window = Window.orderBy(col(\"appearance_count\").desc())\n",
    "ranked_children = children.withColumn(\"top\", f.dense_rank().over(window))\n",
    "\n",
    "result_5 = ranked_children.filter(col(\"top\").between(1,3))\n",
    "                                    \n",
    "result_5.show()"
   ]
  },
  {
   "cell_type": "code",
   "execution_count": 14,
   "id": "de886f21-9061-46e4-bd3a-3711f010d77a",
   "metadata": {},
   "outputs": [
    {
     "name": "stdout",
     "output_type": "stream",
     "text": [
      "+-------+--------------------+------------------+----------------+\n",
      "|city_id|                city|inactive_customers|active_customers|\n",
      "+-------+--------------------+------------------+----------------+\n",
      "|    312|              London|                 2|               2|\n",
      "|     42|              Aurora|                 2|               2|\n",
      "|    148|            Duisburg|                 1|               1|\n",
      "|    463|              Sasebo|                 1|               1|\n",
      "|    471|            Shenzhen|                 1|               1|\n",
      "|    496|           Southport|                 1|               1|\n",
      "|    243|             Jodhpur|                 1|               1|\n",
      "|    392|               Paarl|                 1|               1|\n",
      "|    540|            Tongliao|                 1|               1|\n",
      "|     31|                Arak|                 1|               1|\n",
      "|    516|              Tafuna|                 1|               1|\n",
      "|     85|            Boksburg|                 1|               1|\n",
      "|    137|          Daugavpils|                 1|               1|\n",
      "|    251|               Kabul|                 1|               1|\n",
      "|    451|San Felipe del Pr...|                 1|               1|\n",
      "|    580|              Xintai|                 1|               1|\n",
      "|     65|            Bellevue|                 1|               1|\n",
      "|    458|          Santa Rosa|                 1|               1|\n",
      "|     53| Bandar Seri Begawan|                 1|               1|\n",
      "|    255|              Kalisz|                 1|               1|\n",
      "+-------+--------------------+------------------+----------------+\n",
      "only showing top 20 rows\n",
      "\n"
     ]
    }
   ],
   "source": [
    "# Cities that have active and inactive customer\n",
    "\n",
    "result_6 = (\n",
    "    city.alias(\"c1\")\n",
    "    .join(address.alias(\"a1\"), col(\"c1.city_id\") == col(\"a1.city_id\"), \"inner\")\n",
    "    .join(customer.alias(\"c2\"), col(\"c2.address_id\") == col(\"a1.address_id\"), \"inner\")\n",
    "    .groupBy(col(\"c1.city_id\"), col(\"c1.city\"))\n",
    "    .agg(\n",
    "        f.count(f.when(col(\"c2.active\") == 0, 1).otherwise(0)).alias(\"inactive_customers\"),\n",
    "        f.count(f.when(col(\"c2.active\") == 1, 1).otherwise(0)).alias(\"active_customers\")\n",
    "    )\n",
    "    .orderBy(f.count(f.when(col(\"c2.active\") == 0, 1).otherwise(0).alias(\"inactive_customers\")).desc())\n",
    ")\n",
    "\n",
    "result_6.show()"
   ]
  },
  {
   "cell_type": "code",
   "execution_count": 15,
   "id": "330019e5-871f-4483-b30b-e14a8180e8c2",
   "metadata": {},
   "outputs": [
    {
     "name": "stdout",
     "output_type": "stream",
     "text": [
      "+-----------+---------+---------+\n",
      "|category_id|     name|hours_sum|\n",
      "+-----------+---------+---------+\n",
      "|          2|Animation|   126836|\n",
      "|         14|   Sci-Fi|   116227|\n",
      "+-----------+---------+---------+\n",
      "\n"
     ]
    }
   ],
   "source": [
    "#Q7: The category of movies that has the highest number of total rental hours in cities\n",
    "\n",
    "rent = (\n",
    "    rental.alias(\"r1\")\n",
    "    .join(inventory.alias(\"i1\"), col(\"r1.inventory_id\") == col(\"i1.inventory_id\"), \"inner\")\n",
    "    .join(film.alias(\"f1\"), col(\"f1.film_id\") == col(\"i1.film_id\"), \"inner\")\n",
    "    .join(film_category.alias(\"f2\"), col(\"f1.film_id\") == col(\"f2.film_id\"), \"inner\")\n",
    "    .join(category.alias(\"c1\"), col(\"c1.category_id\") == col(\"f2.category_id\"), \"inner\")\n",
    "    .groupBy(col(\"c1.category_id\"), col(\"c1.name\"), col(\"f1.length\"))\n",
    "    .agg(f.count(col(\"rental_id\")).alias(\"total_rentals\"))\n",
    "    \n",
    ")\n",
    "\n",
    "total_1 = (\n",
    "    rent\n",
    "    .filter(col(\"name\").startswith(\"A\"))\n",
    "    .groupBy(col(\"category_id\"), col(\"name\"))\n",
    "    .agg(\n",
    "        f.sum(col(\"length\") * col(\"total_rentals\")).alias(\"hours_sum\"))\n",
    ")\n",
    "\n",
    "total_2 = (\n",
    "    rent\n",
    "    .filter(col(\"name\").rlike(\"-\"))\n",
    "    .groupBy(col(\"category_id\"), col(\"name\"))\n",
    "    .agg(\n",
    "        f.sum(col(\"length\") * col(\"total_rentals\")).alias(\"hours_sum\"))\n",
    ")\n",
    "\n",
    "max_hours_1 = total_1.agg(f.max(\"hours_sum\").alias(\"max_hours_sum\")).collect()[0][\"max_hours_sum\"]\n",
    "filter_1 = total_1.filter(total_1.hours_sum == max_hours_1)\n",
    "\n",
    "max_hours_2 = total_2.agg(f.max(\"hours_sum\").alias(\"max_hours_sum\")).collect()[0][\"max_hours_sum\"]\n",
    "filter_2 = total_2.filter(total_2.hours_sum == max_hours_2)\n",
    "\n",
    "result_7 = filter_1.select(\"category_id\", \"name\", \"hours_sum\").union(filter_2.select(\"category_id\", \"name\", \"hours_sum\"))\n",
    "result_7.show()"
   ]
  }
 ],
 "metadata": {
  "kernelspec": {
   "display_name": "Python 3 (ipykernel)",
   "language": "python",
   "name": "python3"
  },
  "language_info": {
   "codemirror_mode": {
    "name": "ipython",
    "version": 3
   },
   "file_extension": ".py",
   "mimetype": "text/x-python",
   "name": "python",
   "nbconvert_exporter": "python",
   "pygments_lexer": "ipython3",
   "version": "3.13.1"
  }
 },
 "nbformat": 4,
 "nbformat_minor": 5
}
